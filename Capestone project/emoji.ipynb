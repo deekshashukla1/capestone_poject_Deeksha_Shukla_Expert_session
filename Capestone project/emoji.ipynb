{
 "cells": [
  {
   "cell_type": "code",
   "execution_count": null,
   "id": "3c3ef4f3",
   "metadata": {},
   "outputs": [],
   "source": [
    "from __future__ import division, print_function\n",
    "\n",
    "import pickle\n",
    "import time\n",
    "\n",
    "import tflearn\n",
    "\n",
    "import pandas as pd\n",
    "\n",
    "from sklearn.model_selection import StratifiedShuffleSplit\n",
    "\n",
    "from tflearn.data_utils import to_categorical, pad_sequences\n",
    "from tflearn.datasets import imdb"
   ]
  },
  {
   "cell_type": "code",
   "execution_count": null,
   "id": "46d601ab",
   "metadata": {},
   "outputs": [],
   "source": [
    "# Data set loading\n",
    "params_file = 'data_params.pkl'\n",
    "\n",
    "with open(params_file, 'rb') as f:\n",
    "    params = pickle.load(f)\n",
    "\n",
    "max_sequence_length = params['max_sequence_length']\n",
    "labels = params['labels']\n",
    "vocab = params['vocab']\n",
    "\n",
    "num_classes = len(labels)\n",
    "num_words = len(vocab)\n",
    "\n",
    "data_file = 'processed_emotions.pkl'\n",
    "\n",
    "data = pd.read_pickle(data_file)\n",
    "dataY = data['label'].values\n",
    "dataX = data['sequence'].values"
   ]
  },
  {
   "cell_type": "code",
   "execution_count": null,
   "id": "4c0742d8",
   "metadata": {},
   "outputs": [],
   "source": [
    "# Split data set\n",
    "kfolds = 1\n",
    "test_ratio = 0.2\n",
    "\n",
    "sss = StratifiedShuffleSplit(n_splits=kfolds, test_size=test_ratio, random_state=0)\n",
    "for train_index, test_index in sss.split(dataX, dataY):\n",
    "    trainX, testX = dataX[train_index], dataX[test_index]\n",
    "    trainY, testY = dataY[train_index], dataY[test_index]"
   ]
  },
  {
   "cell_type": "code",
   "execution_count": 3,
   "id": "d9c12876",
   "metadata": {},
   "outputs": [],
   "source": [
    "# TODO: use kfold cross validation for hyper-parameter tuning on training set"
   ]
  },
  {
   "cell_type": "code",
   "execution_count": null,
   "id": "d60a39e3",
   "metadata": {},
   "outputs": [],
   "source": [
    "# Data preprocessing\n",
    "# Sequence padding\n",
    "trainX = pad_sequences(trainX, maxlen=max_sequence_length, value=0.)\n",
    "testX = pad_sequences(testX, maxlen=max_sequence_length, value=0.)\n",
    "# Converting labels to binary vectors\n",
    "trainY = to_categorical(trainY, nb_classes=num_classes)\n",
    "testY = to_categorical(testY, nb_classes=num_classes)"
   ]
  },
  {
   "cell_type": "code",
   "execution_count": null,
   "id": "e5ff51c6",
   "metadata": {},
   "outputs": [],
   "source": [
    "# TODO: try adding a 1D Convolution and Max Pooling Layer prior to LSTM\n",
    "\n",
    "# Network building\n",
    "net = tflearn.input_data([None, max_sequence_length])\n",
    "net = tflearn.embedding(net, input_dim=num_words, output_dim=128)\n",
    "net = tflearn.lstm(net, 128, dropout=0.5)\n",
    "net = tflearn.fully_connected(net, num_classes, activation='softmax')\n",
    "net = tflearn.regression(net, optimizer='adam', learning_rate=0.001, loss='categorical_crossentropy')"
   ]
  },
  {
   "cell_type": "code",
   "execution_count": null,
   "id": "bb187973",
   "metadata": {},
   "outputs": [],
   "source": [
    "# Training\n",
    "start_time = time.time()\n",
    "model = tflearn.DNN(net, tensorboard_verbose=3)\n",
    "model.fit(trainX, trainY, validation_set=(testX, testY), show_metric=True, batch_size=32)\n",
    "print('Training duration (s): {}'.format(time.time() - start_time))"
   ]
  },
  {
   "cell_type": "markdown",
   "id": "fdd9c3a8",
   "metadata": {},
   "source": [
    " Training Step: 10000  | total loss: 1.45479\n",
    "| Adam | epoch: 010 | loss: 1.45479 - acc: 0.5106 | val_loss: 2.21357 - val_acc: 0.3124 -- iter: 32000/32000\n",
    "Training Step: 10000  | total loss: 1.45479\n",
    "| Adam | epoch: 010 | loss: 1.45479 - acc: 0.5106 | val_loss: 2.21357 - val_acc: 0.3124 -- iter: 32000/32000\n",
    "--\n",
    "Training duration (s): 1025.83418202 "
   ]
  },
  {
   "cell_type": "code",
   "execution_count": null,
   "id": "252bf866",
   "metadata": {},
   "outputs": [],
   "source": [
    "from emojibot.utils.text_utils import clean_sentence, encode_sentence\n",
    "test_sentence = \"i love puppies\"\n",
    "test_sentence = clean_sentence(sentence=test_sentence)\n",
    "test_sentence = encode_sentence(sentence=test_sentence, vocab=vocab)\n",
    "test_sequence = pad_sequences([test_sentence], maxlen=max_sequence_length, value=0.)\n",
    "probs = model.predict(test_sequence)[0]\n",
    "pred_class = probs.index(max(probs))\n",
    "labels[pred_class]"
   ]
  },
  {
   "cell_type": "markdown",
   "id": "c701ef80",
   "metadata": {},
   "source": [
    "### out: love"
   ]
  }
 ],
 "metadata": {
  "kernelspec": {
   "display_name": "Python 3",
   "language": "python",
   "name": "python3"
  },
  "language_info": {
   "codemirror_mode": {
    "name": "ipython",
    "version": 3
   },
   "file_extension": ".py",
   "mimetype": "text/x-python",
   "name": "python",
   "nbconvert_exporter": "python",
   "pygments_lexer": "ipython3",
   "version": "3.8.8"
  }
 },
 "nbformat": 4,
 "nbformat_minor": 5
}

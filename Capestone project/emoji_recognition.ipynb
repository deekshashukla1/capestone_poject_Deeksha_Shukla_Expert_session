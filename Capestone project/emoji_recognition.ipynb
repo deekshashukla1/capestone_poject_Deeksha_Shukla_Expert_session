{
 "cells": [
  {
   "cell_type": "code",
   "execution_count": 1,
   "id": "926acd00",
   "metadata": {},
   "outputs": [],
   "source": [
    "import numpy as np\n",
    "import pandas as pd\n",
    "import re, sys, os, csv\n",
    "from nltk.tokenize import word_tokenize\n",
    "from collections import Counter"
   ]
  },
  {
   "cell_type": "code",
   "execution_count": null,
   "id": "98fce207",
   "metadata": {},
   "outputs": [],
   "source": [
    "# get dict of word from english corpus \n",
    "def words(text): return re.findall('[a-z]+', text.lower())\n",
    "dictionary = Counter(words(open('wordlist.txt').read()))\n",
    "max_word_length = max(map(len, dictionary))\n",
    "total = float(sum(dictionary.values()))\n",
    "\n",
    "def word_prob(word): return dictionary[word] / total"
   ]
  },
  {
   "cell_type": "code",
   "execution_count": null,
   "id": "5c03a030",
   "metadata": {},
   "outputs": [],
   "source": [
    "def viterbi_segment(text):\n",
    "    probs, lasts = [1.0], [0]\n",
    "    for i in range(1, len(text) + 1):\n",
    "        prob_k, k = max((probs[j] * word_prob(text[j:i]), j)\n",
    "                        for j in range(max(0, i - 45), i))\n",
    "        probs.append(prob_k)\n",
    "        lasts.append(k)\n",
    "    words = []\n",
    "    i = len(text)\n",
    "    while 0 < i:\n",
    "        words.append(text[lasts[i]:i])\n",
    "        i = lasts[i]\n",
    "    words.reverse()\n",
    "    return words, probs[-1]\n",
    "\n",
    "def remove_hashtag(text):\n",
    "    text = text.group().split(\":\")[0]\n",
    "    text = text[1:] \n",
    "    try:\n",
    "        test = int(text[0])\n",
    "        text = text[1:]\n",
    "    except:\n",
    "        pass\n",
    "    output = ' '.join(viterbi_segment(text)[0])\n",
    "    #print(output)\n",
    "    return output\n",
    "\n",
    "def clean_tweet( tweet):\n",
    "        tweet = tweet.lower()\n",
    "        tweet = re.sub(\"(#[A-Za-z0-9]+)\", fix_hashtag, tweet)\n",
    "        return ' '.join(re.sub(\"(@[A-Za-z0-9]+)|([^0-9A-Za-z \\t])|(\\w+:\\/\\/\\S+)\", \" \", tweet).split())"
   ]
  },
  {
   "cell_type": "code",
   "execution_count": null,
   "id": "1d2bece1",
   "metadata": {},
   "outputs": [],
   "source": [
    "def combine_labels(label):\n",
    "    if label == \"empty\":return 0 # neutral\n",
    "    elif label == \"sadness\":return 2 # sad\n",
    "    elif label == \"enthusiasm\":return 1 # happy\n",
    "    elif label == \"neutral\":return 0 # neutral\n",
    "    elif label == \"worry\":return 2 # sad\n",
    "    elif label == \"surprise\":return 1 # happy\n",
    "    elif label == \"love\":return 1 # happy\n",
    "    elif label == \"fun\":return 1 # happy\n",
    "    elif label == \"hate\":return 3 #hate\n",
    "    elif label == \"happiness\":return 1 # happy\n",
    "    elif label == \"boredom\":return 0 # neutral\n",
    "    elif label == \"relief\":return 1 # happy\n",
    "    elif label == \"anger\":return 4 #anger"
   ]
  },
  {
   "cell_type": "code",
   "execution_count": 3,
   "id": "514648f9",
   "metadata": {},
   "outputs": [],
   "source": [
    "data_train = pd.read_csv('text_emotion.csv', sep=',')"
   ]
  },
  {
   "cell_type": "code",
   "execution_count": null,
   "id": "ae6169f7",
   "metadata": {},
   "outputs": [],
   "source": [
    "dataWriter = csv.writer(open('tweet_data.csv', 'w'), delimiter=',',lineterminator=\"\\n\")\n",
    "\n",
    "total = 40000\n",
    "for i in range(40000):\n",
    "    tweet= clean_tweet(data_train.content[i])\n",
    "    dataWriter.writerow([tweet, str(combine_labels(data_train.sentiment[i]))])\n",
    "print('Completed preprocessing!')"
   ]
  },
  {
   "cell_type": "markdown",
   "id": "902969e8",
   "metadata": {},
   "source": [
    "# complete processing"
   ]
  }
 ],
 "metadata": {
  "kernelspec": {
   "display_name": "Python 3",
   "language": "python",
   "name": "python3"
  },
  "language_info": {
   "codemirror_mode": {
    "name": "ipython",
    "version": 3
   },
   "file_extension": ".py",
   "mimetype": "text/x-python",
   "name": "python",
   "nbconvert_exporter": "python",
   "pygments_lexer": "ipython3",
   "version": "3.8.8"
  }
 },
 "nbformat": 4,
 "nbformat_minor": 5
}
